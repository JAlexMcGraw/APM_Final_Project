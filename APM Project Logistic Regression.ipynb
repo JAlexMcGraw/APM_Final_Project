{
 "cells": [
  {
   "cell_type": "code",
   "execution_count": 1,
   "metadata": {},
   "outputs": [],
   "source": [
    "#Import Python Libraries: NumPy and Pandas\n",
    "import pandas as pd\n",
    "import numpy as np"
   ]
  },
  {
   "cell_type": "code",
   "execution_count": 2,
   "metadata": {},
   "outputs": [],
   "source": [
    "#Import libraries and modules for data visualization\n",
    "from pandas.plotting import scatter_matrix\n",
    "from matplotlib import pyplot"
   ]
  },
  {
   "cell_type": "code",
   "execution_count": 3,
   "metadata": {},
   "outputs": [],
   "source": [
    "from sklearn.linear_model import LogisticRegression\n",
    "\n",
    "#Import scikit-learn module to split the dataset into train/ test sub datasets\n",
    "from sklearn.model_selection import train_test_split"
   ]
  },
  {
   "cell_type": "code",
   "execution_count": 4,
   "metadata": {},
   "outputs": [],
   "source": [
    "from sklearn.metrics import plot_roc_curve, auc\n",
    "from sklearn.model_selection import KFold\n",
    "from sklearn.model_selection import cross_val_score"
   ]
  },
  {
   "cell_type": "code",
   "execution_count": 5,
   "metadata": {},
   "outputs": [],
   "source": [
    "from sklearn.metrics import classification_report"
   ]
  },
  {
   "cell_type": "code",
   "execution_count": 6,
   "metadata": {},
   "outputs": [
    {
     "data": {
      "text/plain": [
       "(17639, 54)"
      ]
     },
     "execution_count": 6,
     "metadata": {},
     "output_type": "execute_result"
    }
   ],
   "source": [
    "data = pd.read_csv('/Users/alexmcgraw/Documents/Adv_Predictive_Modeling/Final_Presentation/Processed data/finaldata_w_xy_and_dummies.csv')\n",
    "data = data.drop(columns='Unnamed: 0')\n",
    "data.shape"
   ]
  },
  {
   "cell_type": "code",
   "execution_count": 7,
   "metadata": {
    "scrolled": true
   },
   "outputs": [
    {
     "data": {
      "text/plain": [
       "Index(['gameId', 'playId', 'x', 'y', 'nflId', 'event', 'displayName',\n",
       "       'frameId', 'targetNflId', 'Opp_Dist', 'closestOpp_Id', 'Team_Dist',\n",
       "       'closestTeam_Id', 'QB_Dist', 'closestQB_Id', 'FootDist', 'quarter',\n",
       "       'down', 'yardsToGo', 'defendersInTheBox', 'numberOfPassRushers',\n",
       "       'absoluteYardlineNumber', 'passResult', 'penalty', 'offensePlayResult',\n",
       "       'epa', 'playResult', 'isDefensivePI', 'height', 'weight', 'position_CB',\n",
       "       'position_DB', 'position_DE', 'position_DT', 'position_FB',\n",
       "       'position_HB', 'position_K', 'position_QB', 'position_RB',\n",
       "       'position_TE', 'position_WR', 'route_ANGLE', 'route_CORNER',\n",
       "       'route_CROSS', 'route_FLAT', 'route_GO', 'route_HITCH', 'route_IN',\n",
       "       'route_OUT', 'route_POST', 'route_SCREEN', 'route_SLANT', 'route_WHEEL',\n",
       "       'route_undefined'],\n",
       "      dtype='object')"
      ]
     },
     "execution_count": 7,
     "metadata": {},
     "output_type": "execute_result"
    }
   ],
   "source": [
    "data.columns"
   ]
  },
  {
   "cell_type": "code",
   "execution_count": 8,
   "metadata": {
    "scrolled": true
   },
   "outputs": [
    {
     "data": {
      "text/plain": [
       "(17639, 35)"
      ]
     },
     "execution_count": 8,
     "metadata": {},
     "output_type": "execute_result"
    }
   ],
   "source": [
    "df = data[['passResult','quarter','down','yardsToGo','Opp_Dist','Team_Dist','QB_Dist','FootDist',\\\n",
    "           'defendersInTheBox','numberOfPassRushers','height','weight','position_CB', 'position_DB', \\\n",
    "           'position_DE', 'position_DT','position_FB', 'position_HB', 'position_K', 'position_QB', \\\n",
    "           'position_RB', 'position_TE', 'position_WR', 'route_ANGLE','route_CORNER', 'route_CROSS', \\\n",
    "           'route_FLAT', 'route_GO', 'route_HITCH', 'route_IN', 'route_OUT', 'route_POST', \\\n",
    "           'route_SCREEN', 'route_SLANT','route_WHEEL',]]\n",
    "df.shape"
   ]
  },
  {
   "cell_type": "code",
   "execution_count": 9,
   "metadata": {},
   "outputs": [
    {
     "name": "stdout",
     "output_type": "stream",
     "text": [
      "passResult               int64\n",
      "quarter                  int64\n",
      "down                     int64\n",
      "yardsToGo                int64\n",
      "Opp_Dist               float64\n",
      "Team_Dist              float64\n",
      "QB_Dist                float64\n",
      "FootDist               float64\n",
      "defendersInTheBox      float64\n",
      "numberOfPassRushers    float64\n",
      "height                  object\n",
      "weight                   int64\n",
      "position_CB              int64\n",
      "position_DB              int64\n",
      "position_DE              int64\n",
      "position_DT              int64\n",
      "position_FB              int64\n",
      "position_HB              int64\n",
      "position_K               int64\n",
      "position_QB              int64\n",
      "position_RB              int64\n",
      "position_TE              int64\n",
      "position_WR              int64\n",
      "route_ANGLE              int64\n",
      "route_CORNER             int64\n",
      "route_CROSS              int64\n",
      "route_FLAT               int64\n",
      "route_GO                 int64\n",
      "route_HITCH              int64\n",
      "route_IN                 int64\n",
      "route_OUT                int64\n",
      "route_POST               int64\n",
      "route_SCREEN             int64\n",
      "route_SLANT              int64\n",
      "route_WHEEL              int64\n",
      "dtype: object\n"
     ]
    }
   ],
   "source": [
    "print(df.dtypes)"
   ]
  },
  {
   "cell_type": "code",
   "execution_count": 11,
   "metadata": {},
   "outputs": [
    {
     "name": "stdout",
     "output_type": "stream",
     "text": [
      "   passResult  quarter  down  yardsToGo  Opp_Dist  Team_Dist    QB_Dist  \\\n",
      "0           1        1     1         15  7.472858   8.001050  17.474132   \n",
      "1           1        1     3         10  4.070344   3.473385   8.875207   \n",
      "2           0        1     1         10  3.571792  15.274980  15.274980   \n",
      "3           1        2     2          8  6.582439   7.361012  14.690722   \n",
      "4           1        2     1         10  3.500700   2.465461  13.051544   \n",
      "\n",
      "    FootDist  defendersInTheBox  numberOfPassRushers  ... route_CROSS  \\\n",
      "0  17.335126                7.0                  4.0  ...           0   \n",
      "1   8.109383                6.0                  5.0  ...           0   \n",
      "2  15.449926                8.0                  4.0  ...           0   \n",
      "3  14.738826                7.0                  4.0  ...           0   \n",
      "4  12.255338                6.0                  4.0  ...           0   \n",
      "\n",
      "   route_FLAT  route_GO  route_HITCH  route_IN  route_OUT  route_POST  \\\n",
      "0           0         0            1         0          0           0   \n",
      "1           0         0            0         0          0           0   \n",
      "2           0         0            0         0          0           1   \n",
      "3           0         0            0         0          1           0   \n",
      "4           0         0            0         0          1           0   \n",
      "\n",
      "   route_SCREEN  route_SLANT  route_WHEEL  \n",
      "0             0            0            0  \n",
      "1             0            0            0  \n",
      "2             0            0            0  \n",
      "3             0            0            0  \n",
      "4             0            0            0  \n",
      "\n",
      "[5 rows x 35 columns]\n"
     ]
    }
   ],
   "source": [
    "print(df.head(5))\n"
   ]
  },
  {
   "cell_type": "code",
   "execution_count": 12,
   "metadata": {},
   "outputs": [
    {
     "name": "stdout",
     "output_type": "stream",
     "text": [
      "         passResult       quarter          down     yardsToGo      Opp_Dist  \\\n",
      "count  17639.000000  17639.000000  17639.000000  17639.000000  17639.000000   \n",
      "mean       0.614774      2.581552      1.914791      8.928000      5.703248   \n",
      "std        0.486662      1.126696      0.843017      4.000344      2.780204   \n",
      "min        0.000000      1.000000      1.000000      1.000000      0.560089   \n",
      "25%        0.000000      2.000000      1.000000      6.000000      3.320768   \n",
      "50%        1.000000      3.000000      2.000000     10.000000      5.586054   \n",
      "75%        1.000000      4.000000      3.000000     10.000000      7.532689   \n",
      "max        1.000000      5.000000      4.000000     41.000000     24.448290   \n",
      "\n",
      "          Team_Dist       QB_Dist      FootDist  defendersInTheBox  \\\n",
      "count  17639.000000  17626.000000  17639.000000       17624.000000   \n",
      "mean       5.460189      9.075063      9.559468           6.032626   \n",
      "std        3.353052      5.471178      5.099870           1.008285   \n",
      "min        0.634114      0.000000      0.082462           1.000000   \n",
      "25%        2.701546      5.191657      5.569946           6.000000   \n",
      "50%        4.691322      8.809770      8.301596           6.000000   \n",
      "75%        7.415211     12.622372     12.378550           7.000000   \n",
      "max       22.132442     24.778549     47.844754          11.000000   \n",
      "\n",
      "       numberOfPassRushers  ...   route_CROSS    route_FLAT      route_GO  \\\n",
      "count         17639.000000  ...  17639.000000  17639.000000  17639.000000   \n",
      "mean              4.227394  ...      0.111741      0.122002      0.093996   \n",
      "std               0.852314  ...      0.315057      0.327298      0.291832   \n",
      "min               0.000000  ...      0.000000      0.000000      0.000000   \n",
      "25%               4.000000  ...      0.000000      0.000000      0.000000   \n",
      "50%               4.000000  ...      0.000000      0.000000      0.000000   \n",
      "75%               5.000000  ...      0.000000      0.000000      0.000000   \n",
      "max              10.000000  ...      1.000000      1.000000      1.000000   \n",
      "\n",
      "        route_HITCH      route_IN     route_OUT    route_POST  route_SCREEN  \\\n",
      "count  17639.000000  17639.000000  17639.000000  17639.000000  17639.000000   \n",
      "mean       0.138557      0.063269      0.128409      0.050683      0.085266   \n",
      "std        0.345493      0.243453      0.334554      0.219356      0.279284   \n",
      "min        0.000000      0.000000      0.000000      0.000000      0.000000   \n",
      "25%        0.000000      0.000000      0.000000      0.000000      0.000000   \n",
      "50%        0.000000      0.000000      0.000000      0.000000      0.000000   \n",
      "75%        0.000000      0.000000      0.000000      0.000000      0.000000   \n",
      "max        1.000000      1.000000      1.000000      1.000000      1.000000   \n",
      "\n",
      "        route_SLANT   route_WHEEL  \n",
      "count  17639.000000  17639.000000  \n",
      "mean       0.062419      0.006123  \n",
      "std        0.241921      0.078011  \n",
      "min        0.000000      0.000000  \n",
      "25%        0.000000      0.000000  \n",
      "50%        0.000000      0.000000  \n",
      "75%        0.000000      0.000000  \n",
      "max        1.000000      1.000000  \n",
      "\n",
      "[8 rows x 34 columns]\n"
     ]
    }
   ],
   "source": [
    "print(df.describe())"
   ]
  },
  {
   "cell_type": "code",
   "execution_count": 13,
   "metadata": {
    "scrolled": true
   },
   "outputs": [
    {
     "data": {
      "image/png": "[encoded data removed]",
      "text/plain": [
       "<Figure size 576x576 with 36 Axes>"
      ]
     },
     "metadata": {
      "needs_background": "light"
     },
     "output_type": "display_data"
    }
   ],
   "source": [
    "df.hist(figsize=(8,8))\n",
    "pyplot.show()"
   ]
  },
  {
   "cell_type": "code",
   "execution_count": 14,
   "metadata": {},
   "outputs": [
    {
     "data": {
      "image/png": "[encoded data removed]",
      "text/plain": [
       "<Figure size 720x720 with 49 Axes>"
      ]
     },
     "metadata": {
      "needs_background": "light"
     },
     "output_type": "display_data"
    }
   ],
   "source": [
    "df.plot(kind='box', subplots=True, layout=(7,7), sharex=False, figsize=(10,10))\n",
    "pyplot.show() \n"
   ]
  },
  {
   "cell_type": "code",
   "execution_count": 10,
   "metadata": {
    "scrolled": true
   },
   "outputs": [
    {
     "name": "stderr",
     "output_type": "stream",
     "text": [
      "/Users/alexmcgraw/anaconda3/lib/python3.7/site-packages/ipykernel_launcher.py:3: SettingWithCopyWarning: \n",
      "A value is trying to be set on a copy of a slice from a DataFrame\n",
      "\n",
      "See the caveats in the documentation: http://pandas.pydata.org/pandas-docs/stable/indexing.html#indexing-view-versus-copy\n",
      "  This is separate from the ipykernel package so we can avoid doing imports until\n"
     ]
    }
   ],
   "source": [
    "# count the number of NaN values in each column\n",
    "\n",
    "df.dropna(subset=['QB_Dist', 'defendersInTheBox'], inplace=True)"
   ]
  },
  {
   "cell_type": "code",
   "execution_count": 11,
   "metadata": {},
   "outputs": [
    {
     "name": "stderr",
     "output_type": "stream",
     "text": [
      "/Users/alexmcgraw/anaconda3/lib/python3.7/site-packages/ipykernel_launcher.py:4: SettingWithCopyWarning: \n",
      "A value is trying to be set on a copy of a slice from a DataFrame.\n",
      "Try using .loc[row_indexer,col_indexer] = value instead\n",
      "\n",
      "See the caveats in the documentation: http://pandas.pydata.org/pandas-docs/stable/indexing.html#indexing-view-versus-copy\n",
      "  after removing the cwd from sys.path.\n"
     ]
    }
   ],
   "source": [
    "height_dict = {'5-10':70,'6-5':77, '6-4':76, '6-3':75, '6-2':74, '6-1':73, '6-0':72, '5-11':71, \\\n",
    "               '5-9':69, '5-8':68, '5-7':67, '5-6':66,'6-7':79,'6-6':78,'64':64,'65':65,'66':66,'67':67,'68':68, \\\n",
    "              '69':69,'70':70,'71':71,'72':72,'73':73,'74':74,'75':75,'76':76,'77':77,'78':78,'79':79,'80':80}\n",
    "df['height'] = data['height'].map(height_dict)"
   ]
  },
  {
   "cell_type": "code",
   "execution_count": 12,
   "metadata": {},
   "outputs": [],
   "source": [
    "# Split data into train, validation, test\n",
    "X = df.drop(['passResult'], axis=1)\n",
    "Y = df['passResult']\n",
    "\n",
    "\n",
    "X_train, X_test, y_train, y_test = train_test_split(X, Y, test_size=0.25, shuffle=True, random_state=42)\n"
   ]
  },
  {
   "cell_type": "code",
   "execution_count": 13,
   "metadata": {},
   "outputs": [
    {
     "name": "stderr",
     "output_type": "stream",
     "text": [
      "/Users/alexmcgraw/anaconda3/lib/python3.7/site-packages/sklearn/linear_model/_logistic.py:764: ConvergenceWarning: lbfgs failed to converge (status=1):\n",
      "STOP: TOTAL NO. of ITERATIONS REACHED LIMIT.\n",
      "\n",
      "Increase the number of iterations (max_iter) or scale the data as shown in:\n",
      "    https://scikit-learn.org/stable/modules/preprocessing.html\n",
      "Please also refer to the documentation for alternative solver options:\n",
      "    https://scikit-learn.org/stable/modules/linear_model.html#logistic-regression\n",
      "  extra_warning_msg=_LOGISTIC_SOLVER_CONVERGENCE_MSG)\n"
     ]
    },
    {
     "data": {
      "text/plain": [
       "0.7306786939643651"
      ]
     },
     "execution_count": 13,
     "metadata": {},
     "output_type": "execute_result"
    }
   ],
   "source": [
    "from sklearn.metrics import accuracy_score, roc_auc_score, f1_score\n",
    "\n",
    "model = LogisticRegression()\n",
    "\n",
    "model.fit(X_train, y_train)\n",
    "\n",
    "predicted = model.predict(X_test)\n",
    "\n",
    "report = classification_report(y_test, predicted)\n",
    "\n",
    "#print(report)\n",
    "f1_score(y_test, predicted)\n",
    "\n",
    "#plot_roc_curve(model, X_test, y_test)\n",
    "#accuracy_score(y_test, predicted)\n",
    "roc_auc_score(y_test, model.predict_proba(X_test)[:,1])"
   ]
  },
  {
   "cell_type": "code",
   "execution_count": 22,
   "metadata": {},
   "outputs": [
    {
     "name": "stdout",
     "output_type": "stream",
     "text": [
      "Accuracy: 71.654%\n"
     ]
    }
   ],
   "source": [
    "result = model.score(X_test, Y_test)\n",
    "\n",
    "print((\"Accuracy: %.3f%%\") % (result*100.0))\n"
   ]
  },
  {
   "cell_type": "code",
   "execution_count": 14,
   "metadata": {},
   "outputs": [
    {
     "data": {
      "text/plain": [
       "0.28029959146618244"
      ]
     },
     "execution_count": 14,
     "metadata": {},
     "output_type": "execute_result"
    }
   ],
   "source": [
    "from sklearn.metrics import accuracy_score\n",
    "1 - accuracy_score(y_test, predicted)"
   ]
  },
  {
   "cell_type": "code",
   "execution_count": 60,
   "metadata": {
    "scrolled": true
   },
   "outputs": [
    {
     "name": "stderr",
     "output_type": "stream",
     "text": [
      "/Users/alexmcgraw/anaconda3/lib/python3.7/site-packages/sklearn/model_selection/_split.py:297: FutureWarning: Setting a random_state has no effect since shuffle is False. This will raise an error in 0.24. You should leave random_state to its default (None), or set shuffle=True.\n",
      "  FutureWarning\n",
      "/Users/alexmcgraw/anaconda3/lib/python3.7/site-packages/sklearn/linear_model/_logistic.py:764: ConvergenceWarning: lbfgs failed to converge (status=1):\n",
      "STOP: TOTAL NO. of ITERATIONS REACHED LIMIT.\n",
      "\n",
      "Increase the number of iterations (max_iter) or scale the data as shown in:\n",
      "    https://scikit-learn.org/stable/modules/preprocessing.html\n",
      "Please also refer to the documentation for alternative solver options:\n",
      "    https://scikit-learn.org/stable/modules/linear_model.html#logistic-regression\n",
      "  extra_warning_msg=_LOGISTIC_SOLVER_CONVERGENCE_MSG)\n",
      "/Users/alexmcgraw/anaconda3/lib/python3.7/site-packages/sklearn/linear_model/_logistic.py:764: ConvergenceWarning: lbfgs failed to converge (status=1):\n",
      "STOP: TOTAL NO. of ITERATIONS REACHED LIMIT.\n",
      "\n",
      "Increase the number of iterations (max_iter) or scale the data as shown in:\n",
      "    https://scikit-learn.org/stable/modules/preprocessing.html\n",
      "Please also refer to the documentation for alternative solver options:\n",
      "    https://scikit-learn.org/stable/modules/linear_model.html#logistic-regression\n",
      "  extra_warning_msg=_LOGISTIC_SOLVER_CONVERGENCE_MSG)\n",
      "/Users/alexmcgraw/anaconda3/lib/python3.7/site-packages/sklearn/linear_model/_logistic.py:764: ConvergenceWarning: lbfgs failed to converge (status=1):\n",
      "STOP: TOTAL NO. of ITERATIONS REACHED LIMIT.\n",
      "\n",
      "Increase the number of iterations (max_iter) or scale the data as shown in:\n",
      "    https://scikit-learn.org/stable/modules/preprocessing.html\n",
      "Please also refer to the documentation for alternative solver options:\n",
      "    https://scikit-learn.org/stable/modules/linear_model.html#logistic-regression\n",
      "  extra_warning_msg=_LOGISTIC_SOLVER_CONVERGENCE_MSG)\n",
      "/Users/alexmcgraw/anaconda3/lib/python3.7/site-packages/sklearn/linear_model/_logistic.py:764: ConvergenceWarning: lbfgs failed to converge (status=1):\n",
      "STOP: TOTAL NO. of ITERATIONS REACHED LIMIT.\n",
      "\n",
      "Increase the number of iterations (max_iter) or scale the data as shown in:\n",
      "    https://scikit-learn.org/stable/modules/preprocessing.html\n",
      "Please also refer to the documentation for alternative solver options:\n",
      "    https://scikit-learn.org/stable/modules/linear_model.html#logistic-regression\n",
      "  extra_warning_msg=_LOGISTIC_SOLVER_CONVERGENCE_MSG)\n",
      "/Users/alexmcgraw/anaconda3/lib/python3.7/site-packages/sklearn/linear_model/_logistic.py:764: ConvergenceWarning: lbfgs failed to converge (status=1):\n",
      "STOP: TOTAL NO. of ITERATIONS REACHED LIMIT.\n",
      "\n",
      "Increase the number of iterations (max_iter) or scale the data as shown in:\n",
      "    https://scikit-learn.org/stable/modules/preprocessing.html\n",
      "Please also refer to the documentation for alternative solver options:\n",
      "    https://scikit-learn.org/stable/modules/linear_model.html#logistic-regression\n",
      "  extra_warning_msg=_LOGISTIC_SOLVER_CONVERGENCE_MSG)\n",
      "/Users/alexmcgraw/anaconda3/lib/python3.7/site-packages/sklearn/linear_model/_logistic.py:764: ConvergenceWarning: lbfgs failed to converge (status=1):\n",
      "STOP: TOTAL NO. of ITERATIONS REACHED LIMIT.\n",
      "\n",
      "Increase the number of iterations (max_iter) or scale the data as shown in:\n",
      "    https://scikit-learn.org/stable/modules/preprocessing.html\n",
      "Please also refer to the documentation for alternative solver options:\n",
      "    https://scikit-learn.org/stable/modules/linear_model.html#logistic-regression\n",
      "  extra_warning_msg=_LOGISTIC_SOLVER_CONVERGENCE_MSG)\n",
      "/Users/alexmcgraw/anaconda3/lib/python3.7/site-packages/sklearn/linear_model/_logistic.py:764: ConvergenceWarning: lbfgs failed to converge (status=1):\n",
      "STOP: TOTAL NO. of ITERATIONS REACHED LIMIT.\n",
      "\n",
      "Increase the number of iterations (max_iter) or scale the data as shown in:\n",
      "    https://scikit-learn.org/stable/modules/preprocessing.html\n",
      "Please also refer to the documentation for alternative solver options:\n",
      "    https://scikit-learn.org/stable/modules/linear_model.html#logistic-regression\n",
      "  extra_warning_msg=_LOGISTIC_SOLVER_CONVERGENCE_MSG)\n",
      "/Users/alexmcgraw/anaconda3/lib/python3.7/site-packages/sklearn/linear_model/_logistic.py:764: ConvergenceWarning: lbfgs failed to converge (status=1):\n",
      "STOP: TOTAL NO. of ITERATIONS REACHED LIMIT.\n",
      "\n",
      "Increase the number of iterations (max_iter) or scale the data as shown in:\n",
      "    https://scikit-learn.org/stable/modules/preprocessing.html\n",
      "Please also refer to the documentation for alternative solver options:\n",
      "    https://scikit-learn.org/stable/modules/linear_model.html#logistic-regression\n",
      "  extra_warning_msg=_LOGISTIC_SOLVER_CONVERGENCE_MSG)\n",
      "/Users/alexmcgraw/anaconda3/lib/python3.7/site-packages/sklearn/linear_model/_logistic.py:764: ConvergenceWarning: lbfgs failed to converge (status=1):\n",
      "STOP: TOTAL NO. of ITERATIONS REACHED LIMIT.\n",
      "\n",
      "Increase the number of iterations (max_iter) or scale the data as shown in:\n",
      "    https://scikit-learn.org/stable/modules/preprocessing.html\n",
      "Please also refer to the documentation for alternative solver options:\n",
      "    https://scikit-learn.org/stable/modules/linear_model.html#logistic-regression\n",
      "  extra_warning_msg=_LOGISTIC_SOLVER_CONVERGENCE_MSG)\n"
     ]
    },
    {
     "name": "stdout",
     "output_type": "stream",
     "text": [
      "Accuracy: 0.717 (0.019)\n"
     ]
    },
    {
     "name": "stderr",
     "output_type": "stream",
     "text": [
      "/Users/alexmcgraw/anaconda3/lib/python3.7/site-packages/sklearn/linear_model/_logistic.py:764: ConvergenceWarning: lbfgs failed to converge (status=1):\n",
      "STOP: TOTAL NO. of ITERATIONS REACHED LIMIT.\n",
      "\n",
      "Increase the number of iterations (max_iter) or scale the data as shown in:\n",
      "    https://scikit-learn.org/stable/modules/preprocessing.html\n",
      "Please also refer to the documentation for alternative solver options:\n",
      "    https://scikit-learn.org/stable/modules/linear_model.html#logistic-regression\n",
      "  extra_warning_msg=_LOGISTIC_SOLVER_CONVERGENCE_MSG)\n"
     ]
    }
   ],
   "source": [
    "n_splits = 10\n",
    "\n",
    "seed = 7\n",
    "\n",
    "kfold = KFold(n_splits, random_state=seed)\n",
    "\n",
    "scoring = 'accuracy'\n",
    "\n",
    "results = cross_val_score(model, X, Y, cv=kfold, scoring=scoring)\n",
    "\n",
    "print(\"Accuracy: %.3f (%.3f)\" % (results.mean(), results.std()))"
   ]
  },
  {
   "cell_type": "code",
   "execution_count": null,
   "metadata": {},
   "outputs": [],
   "source": []
  }
 ],
 "metadata": {
  "kernelspec": {
   "display_name": "Python 3",
   "language": "python",
   "name": "python3"
  },
  "language_info": {
   "codemirror_mode": {
    "name": "ipython",
    "version": 3
   },
   "file_extension": ".py",
   "mimetype": "text/x-python",
   "name": "python",
   "nbconvert_exporter": "python",
   "pygments_lexer": "ipython3",
   "version": "3.7.3"
  }
 },
 "nbformat": 4,
 "nbformat_minor": 4
}
