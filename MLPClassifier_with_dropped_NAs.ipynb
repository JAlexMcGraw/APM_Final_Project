{
 "cells": [
  {
   "cell_type": "code",
   "execution_count": 1,
   "metadata": {},
   "outputs": [],
   "source": [
    "import pandas as pd\n",
    "import numpy as np"
   ]
  },
  {
   "cell_type": "code",
   "execution_count": 2,
   "metadata": {},
   "outputs": [],
   "source": [
    "data = pd.read_csv('/Users/alexmcgraw/Documents/Adv_Predictive_Modeling/Final_Presentation/Processed data/finaldata_w_xy_and_dummies.csv')\n",
    "data = data.drop(columns='Unnamed: 0')"
   ]
  },
  {
   "cell_type": "code",
   "execution_count": 3,
   "metadata": {},
   "outputs": [
    {
     "name": "stderr",
     "output_type": "stream",
     "text": [
      "/Users/alexmcgraw/anaconda3/lib/python3.7/site-packages/ipykernel_launcher.py:14: SettingWithCopyWarning: \n",
      "A value is trying to be set on a copy of a slice from a DataFrame.\n",
      "Try using .loc[row_indexer,col_indexer] = value instead\n",
      "\n",
      "See the caveats in the documentation: http://pandas.pydata.org/pandas-docs/stable/indexing.html#indexing-view-versus-copy\n",
      "  \n"
     ]
    }
   ],
   "source": [
    "from sklearn.model_selection import train_test_split\n",
    "\n",
    "df = data[['passResult','quarter','down','yardsToGo','Opp_Dist','Team_Dist','QB_Dist','FootDist',\\\n",
    "           'defendersInTheBox','numberOfPassRushers','height','weight','position_CB', 'position_DB', \\\n",
    "           'position_DE', 'position_DT','position_FB', 'position_HB', 'position_K', 'position_QB', \\\n",
    "           'position_RB', 'position_TE', 'position_WR', 'route_ANGLE','route_CORNER', 'route_CROSS', \\\n",
    "           'route_FLAT', 'route_GO', 'route_HITCH', 'route_IN', 'route_OUT', 'route_POST', \\\n",
    "           'route_SCREEN', 'route_SLANT','route_WHEEL',]]\n",
    "\n",
    "# format heigh to number in inches\n",
    "height_dict = {'5-10':70,'6-5':77, '6-4':76, '6-3':75, '6-2':74, '6-1':73, '6-0':72, '5-11':71, \\\n",
    "               '5-9':69, '5-8':68, '5-7':67, '5-6':66,'6-7':79,'6-6':78,'64':64,'65':65,'66':66,'67':67,'68':68, \\\n",
    "              '69':69,'70':70,'71':71,'72':72,'73':73,'74':74,'75':75,'76':76,'77':77,'78':78,'79':79,'80':80}\n",
    "df['height'] = data['height'].map(height_dict) "
   ]
  },
  {
   "cell_type": "code",
   "execution_count": 11,
   "metadata": {},
   "outputs": [
    {
     "data": {
      "text/plain": [
       "17639"
      ]
     },
     "execution_count": 11,
     "metadata": {},
     "output_type": "execute_result"
    }
   ],
   "source": [
    "len(df)"
   ]
  },
  {
   "cell_type": "code",
   "execution_count": 4,
   "metadata": {},
   "outputs": [
    {
     "data": {
      "text/plain": [
       "Index(['quarter', 'down', 'yardsToGo', 'Opp_Dist', 'Team_Dist', 'QB_Dist',\n",
       "       'FootDist', 'defendersInTheBox', 'numberOfPassRushers', 'height',\n",
       "       'weight', 'position_CB', 'position_DB', 'position_DE', 'position_DT',\n",
       "       'position_FB', 'position_HB', 'position_K', 'position_QB',\n",
       "       'position_RB', 'position_TE', 'position_WR', 'route_ANGLE',\n",
       "       'route_CORNER', 'route_CROSS', 'route_FLAT', 'route_GO', 'route_HITCH',\n",
       "       'route_IN', 'route_OUT', 'route_POST', 'route_SCREEN', 'route_SLANT',\n",
       "       'route_WHEEL'],\n",
       "      dtype='object')"
      ]
     },
     "execution_count": 4,
     "metadata": {},
     "output_type": "execute_result"
    }
   ],
   "source": [
    "X = df.drop(['passResult'], axis=1)\n",
    "y = df['passResult']\n",
    "\n",
    "X_train, X_test, y_train, y_test = train_test_split(X, y, test_size=0.25, random_state=42)\n",
    "X_train.columns"
   ]
  },
  {
   "cell_type": "code",
   "execution_count": 5,
   "metadata": {},
   "outputs": [],
   "source": [
    "falses = X_train[(X_train['QB_Dist'].isnull() == True) | (X_train['defendersInTheBox'].isnull() == True)]\n",
    "false_test = X_test[(X_test['QB_Dist'].isnull() == True) | (X_test['defendersInTheBox'].isnull() == True)]\n"
   ]
  },
  {
   "cell_type": "code",
   "execution_count": 6,
   "metadata": {},
   "outputs": [],
   "source": [
    "idx = falses.index\n",
    "idx_test = false_test.index"
   ]
  },
  {
   "cell_type": "code",
   "execution_count": 7,
   "metadata": {
    "scrolled": true
   },
   "outputs": [
    {
     "name": "stderr",
     "output_type": "stream",
     "text": [
      "/Users/alexmcgraw/anaconda3/lib/python3.7/site-packages/ipykernel_launcher.py:1: SettingWithCopyWarning: \n",
      "A value is trying to be set on a copy of a slice from a DataFrame\n",
      "\n",
      "See the caveats in the documentation: http://pandas.pydata.org/pandas-docs/stable/indexing.html#indexing-view-versus-copy\n",
      "  \"\"\"Entry point for launching an IPython kernel.\n",
      "/Users/alexmcgraw/anaconda3/lib/python3.7/site-packages/ipykernel_launcher.py:2: SettingWithCopyWarning: \n",
      "A value is trying to be set on a copy of a slice from a DataFrame\n",
      "\n",
      "See the caveats in the documentation: http://pandas.pydata.org/pandas-docs/stable/indexing.html#indexing-view-versus-copy\n",
      "  \n"
     ]
    }
   ],
   "source": [
    "X_train.dropna(subset=['QB_Dist', 'defendersInTheBox'], inplace=True)\n",
    "X_test.dropna(subset=['QB_Dist', 'defendersInTheBox'], inplace=True)\n",
    "y_train.drop(index=idx, inplace=True)\n",
    "y_test.drop(index=idx_test, inplace=True)\n",
    "\n"
   ]
  },
  {
   "cell_type": "code",
   "execution_count": 12,
   "metadata": {},
   "outputs": [
    {
     "data": {
      "text/plain": [
       "17624"
      ]
     },
     "execution_count": 12,
     "metadata": {},
     "output_type": "execute_result"
    }
   ],
   "source": [
    "len(X_train) + len(X_test)"
   ]
  },
  {
   "cell_type": "code",
   "execution_count": 8,
   "metadata": {},
   "outputs": [
    {
     "name": "stdout",
     "output_type": "stream",
     "text": [
      "0.27466545701973233 0.7333088870560226 0.8061469505362573\n"
     ]
    }
   ],
   "source": [
    "from sklearn.neural_network import MLPClassifier\n",
    "from sklearn.metrics import accuracy_score, roc_auc_score, confusion_matrix, plot_roc_curve, f1_score\n",
    "from matplotlib import pyplot as plt\n",
    "\n",
    "reg = MLPClassifier(shuffle=True, max_iter=500, early_stopping=True).fit(X_train, y_train)\n",
    "\n",
    "pred = reg.predict(X_test)\n",
    "probabs = reg.predict_proba(X_test)[:,1]\n",
    "\n",
    "print(1 - accuracy_score(y_test, pred), roc_auc_score(y_test, probabs), f1_score(y_test, pred))"
   ]
  },
  {
   "cell_type": "code",
   "execution_count": 9,
   "metadata": {},
   "outputs": [
    {
     "data": {
      "text/plain": [
       "array([[ 680, 1010],\n",
       "       [ 201, 2518]])"
      ]
     },
     "execution_count": 9,
     "metadata": {},
     "output_type": "execute_result"
    }
   ],
   "source": [
    "confusion_matrix(y_test, pred)"
   ]
  },
  {
   "cell_type": "code",
   "execution_count": 10,
   "metadata": {},
   "outputs": [
    {
     "data": {
      "text/plain": [
       "[<matplotlib.lines.Line2D at 0x7f86d5fb1320>]"
      ]
     },
     "execution_count": 10,
     "metadata": {},
     "output_type": "execute_result"
    },
    {
     "data": {
      "image/png": "[encoded data removed]",
      "text/plain": [
       "<Figure size 432x288 with 1 Axes>"
      ]
     },
     "metadata": {
      "needs_background": "light"
     },
     "output_type": "display_data"
    }
   ],
   "source": [
    "plot_roc_curve(reg, X_test, y_test)\n",
    "plt.plot(np.linspace(0, 1, 200),\n",
    "         np.linspace(0, 1, 200),\n",
    "         label='baseline',\n",
    "         linestyle='--')"
   ]
  },
  {
   "cell_type": "code",
   "execution_count": 92,
   "metadata": {},
   "outputs": [
    {
     "data": {
      "text/html": [
       "<div>\n",
       "<style scoped>\n",
       "    .dataframe tbody tr th:only-of-type {\n",
       "        vertical-align: middle;\n",
       "    }\n",
       "\n",
       "    .dataframe tbody tr th {\n",
       "        vertical-align: top;\n",
       "    }\n",
       "\n",
       "    .dataframe thead th {\n",
       "        text-align: right;\n",
       "    }\n",
       "</style>\n",
       "<table border=\"1\" class=\"dataframe\">\n",
       "  <thead>\n",
       "    <tr style=\"text-align: right;\">\n",
       "      <th></th>\n",
       "      <th>gameId</th>\n",
       "      <th>playId</th>\n",
       "      <th>x</th>\n",
       "      <th>y</th>\n",
       "      <th>nflId</th>\n",
       "      <th>event</th>\n",
       "      <th>displayName</th>\n",
       "      <th>frameId</th>\n",
       "      <th>targetNflId</th>\n",
       "      <th>Opp_Dist</th>\n",
       "      <th>...</th>\n",
       "      <th>route_FLAT</th>\n",
       "      <th>route_GO</th>\n",
       "      <th>route_HITCH</th>\n",
       "      <th>route_IN</th>\n",
       "      <th>route_OUT</th>\n",
       "      <th>route_POST</th>\n",
       "      <th>route_SCREEN</th>\n",
       "      <th>route_SLANT</th>\n",
       "      <th>route_WHEEL</th>\n",
       "      <th>route_undefined</th>\n",
       "    </tr>\n",
       "  </thead>\n",
       "  <tbody>\n",
       "    <tr>\n",
       "      <th>0</th>\n",
       "      <td>2018090600</td>\n",
       "      <td>75</td>\n",
       "      <td>91.36</td>\n",
       "      <td>44.14</td>\n",
       "      <td>2495454.0</td>\n",
       "      <td>ball_snap</td>\n",
       "      <td>Julio Jones</td>\n",
       "      <td>11</td>\n",
       "      <td>2495454.0</td>\n",
       "      <td>7.472858</td>\n",
       "      <td>...</td>\n",
       "      <td>0</td>\n",
       "      <td>0</td>\n",
       "      <td>1</td>\n",
       "      <td>0</td>\n",
       "      <td>0</td>\n",
       "      <td>0</td>\n",
       "      <td>0</td>\n",
       "      <td>0</td>\n",
       "      <td>0</td>\n",
       "      <td>0</td>\n",
       "    </tr>\n",
       "    <tr>\n",
       "      <th>1</th>\n",
       "      <td>2018090600</td>\n",
       "      <td>190</td>\n",
       "      <td>50.39</td>\n",
       "      <td>21.58</td>\n",
       "      <td>2495454.0</td>\n",
       "      <td>ball_snap</td>\n",
       "      <td>Julio Jones</td>\n",
       "      <td>11</td>\n",
       "      <td>2495454.0</td>\n",
       "      <td>4.070344</td>\n",
       "      <td>...</td>\n",
       "      <td>0</td>\n",
       "      <td>0</td>\n",
       "      <td>0</td>\n",
       "      <td>0</td>\n",
       "      <td>0</td>\n",
       "      <td>0</td>\n",
       "      <td>0</td>\n",
       "      <td>0</td>\n",
       "      <td>0</td>\n",
       "      <td>0</td>\n",
       "    </tr>\n",
       "    <tr>\n",
       "      <th>2</th>\n",
       "      <td>2018090600</td>\n",
       "      <td>889</td>\n",
       "      <td>91.37</td>\n",
       "      <td>8.43</td>\n",
       "      <td>2495454.0</td>\n",
       "      <td>ball_snap</td>\n",
       "      <td>Julio Jones</td>\n",
       "      <td>11</td>\n",
       "      <td>2495454.0</td>\n",
       "      <td>3.571792</td>\n",
       "      <td>...</td>\n",
       "      <td>0</td>\n",
       "      <td>0</td>\n",
       "      <td>0</td>\n",
       "      <td>0</td>\n",
       "      <td>0</td>\n",
       "      <td>1</td>\n",
       "      <td>0</td>\n",
       "      <td>0</td>\n",
       "      <td>0</td>\n",
       "      <td>0</td>\n",
       "    </tr>\n",
       "    <tr>\n",
       "      <th>3</th>\n",
       "      <td>2018090600</td>\n",
       "      <td>1423</td>\n",
       "      <td>36.21</td>\n",
       "      <td>38.61</td>\n",
       "      <td>2495454.0</td>\n",
       "      <td>ball_snap</td>\n",
       "      <td>Julio Jones</td>\n",
       "      <td>11</td>\n",
       "      <td>2495454.0</td>\n",
       "      <td>6.582439</td>\n",
       "      <td>...</td>\n",
       "      <td>0</td>\n",
       "      <td>0</td>\n",
       "      <td>0</td>\n",
       "      <td>0</td>\n",
       "      <td>1</td>\n",
       "      <td>0</td>\n",
       "      <td>0</td>\n",
       "      <td>0</td>\n",
       "      <td>0</td>\n",
       "      <td>0</td>\n",
       "    </tr>\n",
       "    <tr>\n",
       "      <th>4</th>\n",
       "      <td>2018090600</td>\n",
       "      <td>1869</td>\n",
       "      <td>19.85</td>\n",
       "      <td>17.77</td>\n",
       "      <td>2495454.0</td>\n",
       "      <td>ball_snap</td>\n",
       "      <td>Julio Jones</td>\n",
       "      <td>11</td>\n",
       "      <td>2495454.0</td>\n",
       "      <td>3.500700</td>\n",
       "      <td>...</td>\n",
       "      <td>0</td>\n",
       "      <td>0</td>\n",
       "      <td>0</td>\n",
       "      <td>0</td>\n",
       "      <td>1</td>\n",
       "      <td>0</td>\n",
       "      <td>0</td>\n",
       "      <td>0</td>\n",
       "      <td>0</td>\n",
       "      <td>0</td>\n",
       "    </tr>\n",
       "    <tr>\n",
       "      <th>5</th>\n",
       "      <td>2018090600</td>\n",
       "      <td>1940</td>\n",
       "      <td>39.53</td>\n",
       "      <td>45.89</td>\n",
       "      <td>2495454.0</td>\n",
       "      <td>ball_snap</td>\n",
       "      <td>Julio Jones</td>\n",
       "      <td>11</td>\n",
       "      <td>2495454.0</td>\n",
       "      <td>8.721382</td>\n",
       "      <td>...</td>\n",
       "      <td>0</td>\n",
       "      <td>0</td>\n",
       "      <td>0</td>\n",
       "      <td>1</td>\n",
       "      <td>0</td>\n",
       "      <td>0</td>\n",
       "      <td>0</td>\n",
       "      <td>0</td>\n",
       "      <td>0</td>\n",
       "      <td>0</td>\n",
       "    </tr>\n",
       "    <tr>\n",
       "      <th>6</th>\n",
       "      <td>2018090600</td>\n",
       "      <td>2450</td>\n",
       "      <td>36.96</td>\n",
       "      <td>45.05</td>\n",
       "      <td>2495454.0</td>\n",
       "      <td>ball_snap</td>\n",
       "      <td>Julio Jones</td>\n",
       "      <td>11</td>\n",
       "      <td>2495454.0</td>\n",
       "      <td>4.060209</td>\n",
       "      <td>...</td>\n",
       "      <td>0</td>\n",
       "      <td>0</td>\n",
       "      <td>1</td>\n",
       "      <td>0</td>\n",
       "      <td>0</td>\n",
       "      <td>0</td>\n",
       "      <td>0</td>\n",
       "      <td>0</td>\n",
       "      <td>0</td>\n",
       "      <td>0</td>\n",
       "    </tr>\n",
       "    <tr>\n",
       "      <th>7</th>\n",
       "      <td>2018090600</td>\n",
       "      <td>2474</td>\n",
       "      <td>40.64</td>\n",
       "      <td>11.27</td>\n",
       "      <td>2495454.0</td>\n",
       "      <td>ball_snap</td>\n",
       "      <td>Julio Jones</td>\n",
       "      <td>11</td>\n",
       "      <td>2495454.0</td>\n",
       "      <td>7.595183</td>\n",
       "      <td>...</td>\n",
       "      <td>0</td>\n",
       "      <td>1</td>\n",
       "      <td>0</td>\n",
       "      <td>0</td>\n",
       "      <td>0</td>\n",
       "      <td>0</td>\n",
       "      <td>0</td>\n",
       "      <td>0</td>\n",
       "      <td>0</td>\n",
       "      <td>0</td>\n",
       "    </tr>\n",
       "    <tr>\n",
       "      <th>8</th>\n",
       "      <td>2018090600</td>\n",
       "      <td>2575</td>\n",
       "      <td>28.63</td>\n",
       "      <td>42.06</td>\n",
       "      <td>2495454.0</td>\n",
       "      <td>ball_snap</td>\n",
       "      <td>Julio Jones</td>\n",
       "      <td>11</td>\n",
       "      <td>2495454.0</td>\n",
       "      <td>16.501376</td>\n",
       "      <td>...</td>\n",
       "      <td>0</td>\n",
       "      <td>0</td>\n",
       "      <td>0</td>\n",
       "      <td>0</td>\n",
       "      <td>0</td>\n",
       "      <td>0</td>\n",
       "      <td>0</td>\n",
       "      <td>0</td>\n",
       "      <td>0</td>\n",
       "      <td>0</td>\n",
       "    </tr>\n",
       "    <tr>\n",
       "      <th>9</th>\n",
       "      <td>2018090600</td>\n",
       "      <td>3004</td>\n",
       "      <td>48.52</td>\n",
       "      <td>37.90</td>\n",
       "      <td>2495454.0</td>\n",
       "      <td>ball_snap</td>\n",
       "      <td>Julio Jones</td>\n",
       "      <td>11</td>\n",
       "      <td>2495454.0</td>\n",
       "      <td>5.155938</td>\n",
       "      <td>...</td>\n",
       "      <td>0</td>\n",
       "      <td>0</td>\n",
       "      <td>0</td>\n",
       "      <td>0</td>\n",
       "      <td>1</td>\n",
       "      <td>0</td>\n",
       "      <td>0</td>\n",
       "      <td>0</td>\n",
       "      <td>0</td>\n",
       "      <td>0</td>\n",
       "    </tr>\n",
       "  </tbody>\n",
       "</table>\n",
       "<p>10 rows × 50 columns</p>\n",
       "</div>"
      ],
      "text/plain": [
       "       gameId  playId      x      y      nflId      event  displayName  \\\n",
       "0  2018090600      75  91.36  44.14  2495454.0  ball_snap  Julio Jones   \n",
       "1  2018090600     190  50.39  21.58  2495454.0  ball_snap  Julio Jones   \n",
       "2  2018090600     889  91.37   8.43  2495454.0  ball_snap  Julio Jones   \n",
       "3  2018090600    1423  36.21  38.61  2495454.0  ball_snap  Julio Jones   \n",
       "4  2018090600    1869  19.85  17.77  2495454.0  ball_snap  Julio Jones   \n",
       "5  2018090600    1940  39.53  45.89  2495454.0  ball_snap  Julio Jones   \n",
       "6  2018090600    2450  36.96  45.05  2495454.0  ball_snap  Julio Jones   \n",
       "7  2018090600    2474  40.64  11.27  2495454.0  ball_snap  Julio Jones   \n",
       "8  2018090600    2575  28.63  42.06  2495454.0  ball_snap  Julio Jones   \n",
       "9  2018090600    3004  48.52  37.90  2495454.0  ball_snap  Julio Jones   \n",
       "\n",
       "   frameId  targetNflId   Opp_Dist  ...  route_FLAT  route_GO  route_HITCH  \\\n",
       "0       11    2495454.0   7.472858  ...           0         0            1   \n",
       "1       11    2495454.0   4.070344  ...           0         0            0   \n",
       "2       11    2495454.0   3.571792  ...           0         0            0   \n",
       "3       11    2495454.0   6.582439  ...           0         0            0   \n",
       "4       11    2495454.0   3.500700  ...           0         0            0   \n",
       "5       11    2495454.0   8.721382  ...           0         0            0   \n",
       "6       11    2495454.0   4.060209  ...           0         0            1   \n",
       "7       11    2495454.0   7.595183  ...           0         1            0   \n",
       "8       11    2495454.0  16.501376  ...           0         0            0   \n",
       "9       11    2495454.0   5.155938  ...           0         0            0   \n",
       "\n",
       "   route_IN  route_OUT  route_POST  route_SCREEN  route_SLANT  route_WHEEL  \\\n",
       "0         0          0           0             0            0            0   \n",
       "1         0          0           0             0            0            0   \n",
       "2         0          0           1             0            0            0   \n",
       "3         0          1           0             0            0            0   \n",
       "4         0          1           0             0            0            0   \n",
       "5         1          0           0             0            0            0   \n",
       "6         0          0           0             0            0            0   \n",
       "7         0          0           0             0            0            0   \n",
       "8         0          0           0             0            0            0   \n",
       "9         0          1           0             0            0            0   \n",
       "\n",
       "   route_undefined  \n",
       "0                0  \n",
       "1                0  \n",
       "2                0  \n",
       "3                0  \n",
       "4                0  \n",
       "5                0  \n",
       "6                0  \n",
       "7                0  \n",
       "8                0  \n",
       "9                0  \n",
       "\n",
       "[10 rows x 50 columns]"
      ]
     },
     "execution_count": 92,
     "metadata": {},
     "output_type": "execute_result"
    }
   ],
   "source": [
    "data.head(10)"
   ]
  }
 ],
 "metadata": {
  "kernelspec": {
   "display_name": "Python 3",
   "language": "python",
   "name": "python3"
  },
  "language_info": {
   "codemirror_mode": {
    "name": "ipython",
    "version": 3
   },
   "file_extension": ".py",
   "mimetype": "text/x-python",
   "name": "python",
   "nbconvert_exporter": "python",
   "pygments_lexer": "ipython3",
   "version": "3.7.3"
  }
 },
 "nbformat": 4,
 "nbformat_minor": 2
}
